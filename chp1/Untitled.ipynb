{
 "cells": [
  {
   "cell_type": "code",
   "execution_count": 10,
   "metadata": {},
   "outputs": [],
   "source": [
    "import numpy as np\n",
    "\n"
   ]
  },
  {
   "cell_type": "markdown",
   "metadata": {},
   "source": [
    "### Implementation of singal neuron"
   ]
  },
  {
   "cell_type": "code",
   "execution_count": 8,
   "metadata": {},
   "outputs": [],
   "source": [
    "class Neuron(object):\n",
    "#  \"\"\"A simple feed-forward artificial neuron.\n",
    "#  Args:\n",
    "#  num_inputs (int): The input vector size / number of input values.\n",
    "#  activation_fn (callable): The activation function.\n",
    "#  Attributes:\n",
    "#  W (ndarray): The weight values for each input.Computer Vision and Neural Networks Chapter 1\n",
    "# [ 31 ]\n",
    "#  b (float): The bias value, added to the weighted sum.\n",
    "#  activation_fn (callable): The activation function.\n",
    "#  \"\"\"\n",
    "    def __init__(self, num_inputs, activation_fn):\n",
    "        #  # Randomly initializing the weight vector and bias value:\n",
    "        self.W = np.random.rand(num_inputs)\n",
    "        self.b = np.random.rand(1)\n",
    "        self.activation_fn = activation_fn\n",
    "    def forward(self,x):\n",
    "        #  \"\"\"Forward the input signal through the neuron.\"\"\"\n",
    "        z = np.dot(x, self.W) + self.b\n",
    "        return self.activation_fn(z)"
   ]
  },
  {
   "cell_type": "code",
   "execution_count": 12,
   "metadata": {},
   "outputs": [
    {
     "name": "stdout",
     "output_type": "stream",
     "text": [
      "1\n"
     ]
    }
   ],
   "source": [
    "# Fixing the random number generator's seed, for reproducible results:\n",
    "np.random.seed(42)\n",
    "# Random input column array of 3 values (shape = `(1, 3)`)\n",
    "x = np.random.rand(3).reshape(1, 3)\n",
    "# > [[0.37454012 0.95071431 0.73199394]]\n",
    "# Instantiating a Perceptron (simple neuron with step function):\n",
    "step_fn = lambda y: 0 if y <= 0 else 1\n",
    "perceptron = Neuron(num_inputs=x.size, activation_fn=step_fn)\n",
    "# > perceptron.weights = [0.59865848 0.15601864 0.15599452]\n",
    "# > perceptron.bias = [0.05808361]\n",
    "out = perceptron.forward(x)\n",
    "print(out)"
   ]
  },
  {
   "cell_type": "markdown",
   "metadata": {},
   "source": [
    "### Implementation of neural network"
   ]
  },
  {
   "cell_type": "code",
   "execution_count": 14,
   "metadata": {},
   "outputs": [],
   "source": [
    "import numpy as np\n",
    "class FullyConnectedLayer(object):\n",
    "    \n",
    "#  \"\"\"A simple fully-connected NN layer.\n",
    "#  Args:\n",
    "#  num_inputs (int): The input vector size/number of input values.\n",
    "#  layer_size (int): The output vector size/number of neurons.\n",
    "#  activation_fn (callable): The activation function for this layer.\n",
    "#  Attributes:\n",
    "#  W (ndarray): The weight values for each input.\n",
    "#  b (ndarray): The bias value, added to the weighted sum.\n",
    "#  size (int): The layer size/number of neurons.\n",
    "#  activation_fn (callable): The neurons' activation function.\n",
    "    def __init__(self, num_inputs, layer_size, activation_fn):\n",
    "        self.W = np.random.standard_normal((num_inputs, layer_size))\n",
    "        self.b = np.random.standard_normal(layer_size)\n",
    "        self.size = layer_size\n",
    "        self.activation_fn = activation_fn\n",
    "    def forward(self, x):\n",
    "        z = np.dot(x, self.W) + self.b\n",
    "        return self.activation_fn(z)\n"
   ]
  },
  {
   "cell_type": "code",
   "execution_count": 17,
   "metadata": {},
   "outputs": [
    {
     "name": "stdout",
     "output_type": "stream",
     "text": [
      "[[0.28712364 0.         0.33478571]\n",
      " [0.         0.         1.08175419]]\n"
     ]
    }
   ],
   "source": [
    "np.random.seed(42)\n",
    "# Random input column-vectors of 2 values (shape = `(1, 2)`):\n",
    "x1 = np.random.uniform(-1, 1, 2).reshape(1, 2)\n",
    "# > [[-0.25091976 0.90142861]]\n",
    "x2 = np.random.uniform(-1, 1, 2).reshape(1, 2)\n",
    "# > [[0.46398788 0.19731697]]\n",
    "relu_fn = lambda y: np.maximum(y, 0) # Defining our activation function\n",
    "layer = FullyConnectedLayer(2, 3, relu_fn)\n",
    "# Our layer can process x1 and x2 separately...\n",
    "out1 = layer.forward(x1)\n",
    "# > [[0.28712364 0. 0.33478571]]\n",
    "out2 = layer.forward(x2)\n",
    "# > [[0. 0. 1.08175419]]\n",
    "# ... or together:\n",
    "x12 = np.concatenate((x1, x2)) # stack of input vectors, of shape `(2, 2)`\n",
    "out12 = layer.forward(x12)\n",
    "# > [[0.28712364 0. 0.33478571]\n",
    "# [0. 0. 1.08175419]]\n",
    "print(out12)\n",
    "#stack of input is termed as batch"
   ]
  },
  {
   "cell_type": "code",
   "execution_count": null,
   "metadata": {},
   "outputs": [],
   "source": []
  },
  {
   "cell_type": "code",
   "execution_count": 21,
   "metadata": {},
   "outputs": [
    {
     "ename": "ImportError",
     "evalue": "cannot import name 'mnist' from 'tensorflow.keras' (C:\\Users\\hp\\anaconda3\\lib\\site-packages\\tensorflow\\keras\\__init__.py)",
     "output_type": "error",
     "traceback": [
      "\u001b[1;31m---------------------------------------------------------------------------\u001b[0m",
      "\u001b[1;31mImportError\u001b[0m                               Traceback (most recent call last)",
      "\u001b[1;32m<ipython-input-21-37f4242b7458>\u001b[0m in \u001b[0;36m<module>\u001b[1;34m\u001b[0m\n\u001b[1;32m----> 1\u001b[1;33m \u001b[1;32mfrom\u001b[0m \u001b[0mtensorflow\u001b[0m\u001b[1;33m.\u001b[0m\u001b[0mkeras\u001b[0m \u001b[1;32mimport\u001b[0m \u001b[0mmnist\u001b[0m\u001b[1;33m\u001b[0m\u001b[1;33m\u001b[0m\u001b[0m\n\u001b[0m\u001b[0;32m      2\u001b[0m \u001b[0mnp\u001b[0m\u001b[1;33m.\u001b[0m\u001b[0mrandom\u001b[0m\u001b[1;33m.\u001b[0m\u001b[0mseed\u001b[0m\u001b[1;33m(\u001b[0m\u001b[1;36m42\u001b[0m\u001b[1;33m)\u001b[0m\u001b[1;33m\u001b[0m\u001b[1;33m\u001b[0m\u001b[0m\n\u001b[0;32m      3\u001b[0m \u001b[1;31m# Loading the training and testing data:\u001b[0m\u001b[1;33m\u001b[0m\u001b[1;33m\u001b[0m\u001b[1;33m\u001b[0m\u001b[0m\n\u001b[0;32m      4\u001b[0m \u001b[0mX_train\u001b[0m\u001b[1;33m,\u001b[0m \u001b[0my_train\u001b[0m \u001b[1;33m=\u001b[0m \u001b[0mmnist\u001b[0m\u001b[1;33m.\u001b[0m\u001b[0mtrain_images\u001b[0m\u001b[1;33m(\u001b[0m\u001b[1;33m)\u001b[0m\u001b[1;33m,\u001b[0m \u001b[0mmnist\u001b[0m\u001b[1;33m.\u001b[0m\u001b[0mtrain_labels\u001b[0m\u001b[1;33m(\u001b[0m\u001b[1;33m)\u001b[0m\u001b[1;33m\u001b[0m\u001b[1;33m\u001b[0m\u001b[0m\n\u001b[0;32m      5\u001b[0m \u001b[0mX_test\u001b[0m\u001b[1;33m,\u001b[0m \u001b[0my_test\u001b[0m \u001b[1;33m=\u001b[0m \u001b[0mmnist\u001b[0m\u001b[1;33m.\u001b[0m\u001b[0mtest_images\u001b[0m\u001b[1;33m(\u001b[0m\u001b[1;33m)\u001b[0m\u001b[1;33m,\u001b[0m \u001b[0mmnist\u001b[0m\u001b[1;33m.\u001b[0m\u001b[0mtest_labels\u001b[0m\u001b[1;33m(\u001b[0m\u001b[1;33m)\u001b[0m\u001b[1;33m\u001b[0m\u001b[1;33m\u001b[0m\u001b[0m\n",
      "\u001b[1;31mImportError\u001b[0m: cannot import name 'mnist' from 'tensorflow.keras' (C:\\Users\\hp\\anaconda3\\lib\\site-packages\\tensorflow\\keras\\__init__.py)"
     ]
    }
   ],
   "source": [
    "from tensorflow.keras import mnist\n",
    "np.random.seed(42)\n",
    "# Loading the training and testing data:\n",
    "X_train, y_train = mnist.train_images(), mnist.train_labels()\n",
    "X_test, y_test = mnist.test_images(), mnist.test_labels()\n",
    "num_classes = 10 # classes are the digits from 0 to 9\n",
    "# We transform the images into column vectors (as inputs for our NN):\n",
    "X_train, X_test = X_train.reshape(-1, 28*28), X_test.reshape(-1, 28*28)\n",
    "# We \"one-hot\" the labels (as targets for our NN), for instance, transform\n",
    "\n",
    "y_train = np.eye(num_classes)[y_train]"
   ]
  },
  {
   "cell_type": "code",
   "execution_count": 25,
   "metadata": {},
   "outputs": [],
   "source": [
    "import tensorflow.keras as keras"
   ]
  },
  {
   "cell_type": "code",
   "execution_count": 27,
   "metadata": {},
   "outputs": [
    {
     "ename": "AttributeError",
     "evalue": "module 'tensorflow.keras' has no attribute 'minst'",
     "output_type": "error",
     "traceback": [
      "\u001b[1;31m---------------------------------------------------------------------------\u001b[0m",
      "\u001b[1;31mAttributeError\u001b[0m                            Traceback (most recent call last)",
      "\u001b[1;32m<ipython-input-27-f1a3bc20f68e>\u001b[0m in \u001b[0;36m<module>\u001b[1;34m\u001b[0m\n\u001b[1;32m----> 1\u001b[1;33m \u001b[0mkeras\u001b[0m\u001b[1;33m.\u001b[0m\u001b[0mminst\u001b[0m\u001b[1;33m\u001b[0m\u001b[1;33m\u001b[0m\u001b[0m\n\u001b[0m",
      "\u001b[1;31mAttributeError\u001b[0m: module 'tensorflow.keras' has no attribute 'minst'"
     ]
    }
   ],
   "source": [
    "keras.minst"
   ]
  },
  {
   "cell_type": "code",
   "execution_count": null,
   "metadata": {},
   "outputs": [],
   "source": []
  }
 ],
 "metadata": {
  "kernelspec": {
   "display_name": "Python 3",
   "language": "python",
   "name": "python3"
  },
  "language_info": {
   "codemirror_mode": {
    "name": "ipython",
    "version": 3
   },
   "file_extension": ".py",
   "mimetype": "text/x-python",
   "name": "python",
   "nbconvert_exporter": "python",
   "pygments_lexer": "ipython3",
   "version": "3.8.5"
  }
 },
 "nbformat": 4,
 "nbformat_minor": 4
}
